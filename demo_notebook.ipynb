{
 "cells": [
  {
   "cell_type": "markdown",
   "id": "1b3ee1f4",
   "metadata": {},
   "source": [
    "# Testbed initializaton\n",
    "\n",
    "Read configuration"
   ]
  },
  {
   "cell_type": "code",
   "execution_count": null,
   "id": "1783687c-90f4-4fa1-bca3-595712700744",
   "metadata": {},
   "outputs": [],
   "source": [
    "from testbed_showcase.constants import EnumFut, EnumTentacleType\n",
    "from testbed_showcase.util_testbed import get_testbed\n",
    "\n",
    "fut = EnumFut.FUT_I2C\n",
    "\n",
    "TESTBED = get_testbed()"
   ]
  },
  {
   "cell_type": "markdown",
   "id": "fd2dadb5",
   "metadata": {},
   "source": [
    "Select 3 tentacles - As there are two MCU tentacles connected, we specify one by its serial"
   ]
  },
  {
   "cell_type": "code",
   "execution_count": null,
   "id": "db3007f4",
   "metadata": {},
   "outputs": [],
   "source": [
    "mcu = TESTBED.get_tentacle(\n",
    "    tentacle_type=EnumTentacleType.TENTACLE_MCU,\n",
    "    # serial=\"e46340474b4e1831\",   # pico\n",
    "    serial=\"e46340474b551722\",  # pyboard\n",
    ")\n",
    "daq = TESTBED.get_tentacle(tentacle_type=EnumTentacleType.TENTACLE_DAQ_SALEAE)\n",
    "potpourry = TESTBED.get_tentacle(tentacle_type=EnumTentacleType.TENTACLE_DEVICE_POTPOURRY)\n",
    "\n",
    "tentacles = [mcu, daq, potpourry]"
   ]
  },
  {
   "cell_type": "markdown",
   "id": "05edfa85",
   "metadata": {},
   "source": [
    "# Tentacle Infra\n",
    "\n",
    "Connect and powercycle"
   ]
  },
  {
   "cell_type": "code",
   "execution_count": null,
   "id": "c321c30e",
   "metadata": {},
   "outputs": [],
   "source": [
    "from octoprobe.octoprobe import CtxTestRun\n",
    "\n",
    "# INFRA: Powercycle all tentacles\n",
    "CtxTestRun.session_powercycle_tentacles()\n",
    "\n",
    "# INFRA: Initialize tentacles\n",
    "[t.infra.setup_infra(udev=None) for t in tentacles]"
   ]
  },
  {
   "cell_type": "markdown",
   "id": "75ca94cc",
   "metadata": {},
   "source": [
    "Communicate with the tentacle infra MCU"
   ]
  },
  {
   "cell_type": "code",
   "execution_count": null,
   "id": "b498bfa0",
   "metadata": {},
   "outputs": [],
   "source": [
    "mcu.infra.mcu_infra.get_micropython_version()"
   ]
  },
  {
   "cell_type": "markdown",
   "id": "9db374ef",
   "metadata": {},
   "source": [
    "## Tentacle Relays\n",
    "\n",
    "Close tentalces relays to allow I2C testing"
   ]
  },
  {
   "cell_type": "code",
   "execution_count": null,
   "id": "21d96f38",
   "metadata": {},
   "outputs": [],
   "source": [
    "fut = EnumFut.FUT_I2C\n",
    "for t in tentacles:\n",
    "    t.set_relays_by_FUT(fut=fut, open_others=True)"
   ]
  },
  {
   "cell_type": "markdown",
   "id": "f4157ad2",
   "metadata": {},
   "source": [
    "Explicitely open/close the relays"
   ]
  },
  {
   "cell_type": "code",
   "execution_count": null,
   "id": "98aef47a",
   "metadata": {},
   "outputs": [],
   "source": [
    "mcu.infra.mcu_infra.relays(relays_close=[2, 7], relays_open=[1,2,3,4,5,6,7])"
   ]
  },
  {
   "cell_type": "markdown",
   "id": "d26918d6",
   "metadata": {},
   "source": [
    "# Tentacle DUT\n",
    "\n",
    "Flash the MCU soldered on tentacles DUT\n",
    "\n",
    "**RPI_PICO2 / RPI_PICO / PYBV11**"
   ]
  },
  {
   "cell_type": "code",
   "execution_count": null,
   "id": "ef75865a",
   "metadata": {},
   "outputs": [],
   "source": [
    "import pathlib\n",
    "\n",
    "from octoprobe.util_firmware_spec import FirmwareDownloadSpec\n",
    "from octoprobe.util_pyudev import UdevPoller\n",
    "\n",
    "PYBV11 = {\n",
    "    \"board_variant\": \"PYBV11\",\n",
    "    \"url\": \"https://micropython.org/resources/firmware/PYBV11-20240602-v1.23.0.dfu\",\n",
    "    \"micropython_version_text\": \"3.4.0; MicroPython v1.23.0 on 2024-06-02\"\n",
    "}\n",
    "RPI_PICO2 = {\n",
    "    \"board_variant\": \"RPI_PICO2\",\n",
    "    \"url\": \"https://micropython.org/resources/firmware/RPI_PICO2-20241025-v1.24.0.uf2\",\n",
    "    \"micropython_full_version_text\": \"3.4.0; MicroPython v1.24.0 on 2024-10-25;Raspberry Pi Pico2 with RP2350\"\n",
    "}\n",
    "RPI_PICO = {\n",
    "    \"board_variant\": \"RPI_PICO\",\n",
    "    \"url\": \"https://micropython.org/resources/firmware/RPI_PICO-20240602-v1.23.0.uf2\",\n",
    "    \"micropython_full_version_text\": \"3.4.0; MicroPython v1.23.0 on 2024-06-02;Raspberry Pi Pico with RP2040\"\n",
    "}\n",
    "firmware_spec=FirmwareDownloadSpec.factory_json(RPI_PICO)\n",
    "# TODO: Raise exception if board_variant does not equal\n",
    "mcu.power.dut = True # TODO: This line should not be required\n",
    "mcu.dut.mp_remote_close() # TODO: This line should not be required\n",
    "with UdevPoller() as udev_poller:\n",
    "    mcu.flash_dut(udev_poller=udev_poller, firmware_spec=firmware_spec, directory_logs=pathlib.Path(\"/tmp\"))"
   ]
  },
  {
   "cell_type": "markdown",
   "id": "f7996032",
   "metadata": {},
   "source": [
    "Power on DUT MCU and wait for USB device to appear"
   ]
  },
  {
   "cell_type": "code",
   "execution_count": null,
   "id": "079af055",
   "metadata": {},
   "outputs": [],
   "source": [
    "mcu.dut.mp_remote_close() # TODO: This line should not be required\n",
    "mcu.power.dut = True # TODO: This line should not be required\n",
    "with UdevPoller() as udev_poller:\n",
    "    mcu.dut_boot_and_init_mp_remote(udev=udev_poller)"
   ]
  },
  {
   "cell_type": "markdown",
   "id": "c1f6e4a6",
   "metadata": {},
   "source": [
    "Free serial port and return port name. Now we may connect using Thonny"
   ]
  },
  {
   "cell_type": "code",
   "execution_count": null,
   "id": "7c4f40bd",
   "metadata": {},
   "outputs": [],
   "source": [
    "mcu.dut.mp_remote_close()"
   ]
  },
  {
   "cell_type": "markdown",
   "id": "36648571",
   "metadata": {},
   "source": [
    "DUT MCU: Run some micropython code: blink red led"
   ]
  },
  {
   "cell_type": "code",
   "execution_count": null,
   "id": "b066e7cb",
   "metadata": {},
   "outputs": [],
   "source": [
    "PYBV11 = \"\"\"\n",
    "from pyb import Timer\n",
    "\n",
    "led =  pyb.LED(1)\n",
    "tim = Timer(1, freq=1000)\n",
    "tim.freq(2.0)\n",
    "tim.callback(lambda _: led.toggle())\n",
    "\"\"\"\n",
    "\n",
    "RPI_PICO = \"\"\"\n",
    "from machine import Timer, Pin\n",
    "\n",
    "led = Pin(25, Pin.OUT)\n",
    "tim = Timer(period=20, callback=lambda _: led.toggle())\n",
    "\"\"\"\n",
    "\n",
    "mcu.dut.mp_remote.exec_raw(RPI_PICO)\n"
   ]
  },
  {
   "cell_type": "code",
   "execution_count": null,
   "id": "5b657600",
   "metadata": {},
   "outputs": [],
   "source": []
  }
 ],
 "metadata": {
  "kernelspec": {
   "display_name": ".venv",
   "language": "python",
   "name": "python3"
  },
  "language_info": {
   "codemirror_mode": {
    "name": "ipython",
    "version": 3
   },
   "file_extension": ".py",
   "mimetype": "text/x-python",
   "name": "python",
   "nbconvert_exporter": "python",
   "pygments_lexer": "ipython3",
   "version": "3.13.1"
  }
 },
 "nbformat": 4,
 "nbformat_minor": 5
}
