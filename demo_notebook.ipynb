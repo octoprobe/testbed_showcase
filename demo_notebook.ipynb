{
 "cells": [
  {
   "cell_type": "code",
   "execution_count": 23,
   "id": "1783687c-90f4-4fa1-bca3-595712700744",
   "metadata": {},
   "outputs": [],
   "source": [
    "from octoprobe.octoprobe import NTestRun\n",
    "from octoprobe.util_dut_programmers import FirmwareDownloadSpec\n",
    "from octoprobe.util_pytest import util_logging\n",
    "\n",
    "from testbed import util_testbed\n",
    "from testbed.constants import EnumFut, TentacleType\n",
    "\n",
    "util_logging.init_logging()\n",
    "\n",
    "fut = EnumFut.FUT_I2C\n",
    "\n",
    "TESTBED = util_testbed.get_testbed()\n",
    "ctx = NTestRun(testbed=TESTBED)"
   ]
  },
  {
   "cell_type": "code",
   "execution_count": 24,
   "id": "db3007f4",
   "metadata": {},
   "outputs": [],
   "source": [
    "mcu = TESTBED.get_tentacle(\n",
    "    tentacle_type=TentacleType.TENTACLE_MCU,\n",
    "    # serial=\"e46340474b4e1831\",   # pico\n",
    "    serial=\"e46340474b174429\",  # pyboard\n",
    ")\n",
    "daq = TESTBED.get_tentacle(tentacle_type=TentacleType.TENTACLE_DAQ_SALEAE)\n",
    "potpourry = TESTBED.get_tentacle(tentacle_type=TentacleType.TENTACLE_DEVICE_POTPOURRY)\n",
    "\n",
    "tentacles = [mcu, daq, potpourry]"
   ]
  },
  {
   "cell_type": "code",
   "execution_count": null,
   "id": "c321c30e",
   "metadata": {},
   "outputs": [],
   "source": [
    "# INFRA: Powercycle all tentacles\n",
    "ctx.session_powercycle_tentacles()\n",
    "\n",
    "# INFRA: Initialize tentacles\n",
    "[t.infra.setup_infra(udev=None) for t in tentacles]"
   ]
  },
  {
   "cell_type": "code",
   "execution_count": null,
   "id": "b498bfa0",
   "metadata": {},
   "outputs": [],
   "source": [
    "mcu.infra.mcu_infra.get_micropython_version()"
   ]
  },
  {
   "cell_type": "code",
   "execution_count": 8,
   "id": "21d96f38",
   "metadata": {},
   "outputs": [],
   "source": [
    "# INFRA: Set relays according to FUT\n",
    "fut = EnumFut.FUT_I2C\n",
    "for t in tentacles:\n",
    "    t.set_relays_by_FUT(fut=fut, open_others=True)"
   ]
  },
  {
   "cell_type": "code",
   "execution_count": 9,
   "id": "98aef47a",
   "metadata": {},
   "outputs": [],
   "source": [
    "# INFRA: Set relays according to FUT\n",
    "mcu.infra.mcu_infra.relays(relays_close=[2, 7], relays_open=[1,2,3,4,5,6,7])"
   ]
  },
  {
   "cell_type": "code",
   "execution_count": null,
   "id": "ef75865a",
   "metadata": {},
   "outputs": [],
   "source": [
    "# DUT pico\n",
    "firmware_spec=FirmwareDownloadSpec.factory_json({\n",
    "    \"board_variant\": \"RPI_PICO2\",\n",
    "    \"url\": \"https://micropython.org/resources/firmware/RPI_PICO2-20240809-v1.24.0-preview.201.g269a0e0e1.uf2\",\n",
    "    \"micropython_version_text\": \"3.4.0; MicroPython v1.24.0-preview.201.g269a0e0e1 on 2024-08-09\"\n",
    "})\n",
    "# TODO: Raise exception if board_variant does not equal\n",
    "mcu.power.dut = True # TODO: This line should not be required\n",
    "mcu.dut.mp_remote_close() # TODO: This line should not be required\n",
    "mcu.flash_dut(udev_poller=ctx.udev_poller,firmware_spec=firmware_spec)"
   ]
  },
  {
   "cell_type": "code",
   "execution_count": null,
   "id": "0f5ec7ef",
   "metadata": {},
   "outputs": [],
   "source": [
    "# DUT pico\n",
    "firmware_spec=FirmwareDownloadSpec.factory_json({\n",
    "    \"board_variant\": \"RPI_PICO2\",\n",
    "    \"url\": \"https://micropython.org/resources/firmware/RPI_PICO2-RISCV-20241016-v1.24.0-preview.449.g1b89c503d.uf2\",\n",
    "    \"micropython_version_text\": \"3.4.0; MicroPython v1.24.0-preview.449.g1b89c503d on 2024-10-16\"\n",
    "})\n",
    "mcu.power.dut = True # TODO: This line should not be required\n",
    "mcu.dut.mp_remote_close() # TODO: This line should not be required\n",
    "mcu.flash_dut(udev_poller=ctx.udev_poller,firmware_spec=firmware_spec)"
   ]
  },
  {
   "cell_type": "code",
   "execution_count": null,
   "id": "7b82a036",
   "metadata": {},
   "outputs": [],
   "source": [
    "# DUT pyboard\n",
    "firmware_spec=FirmwareDownloadSpec.factory_json({\n",
    "    \"board_variant\": \"PYBV11\",\n",
    "    \"url\": \"https://micropython.org/resources/firmware/PYBV11-20240602-v1.23.0.dfu\",\n",
    "    \"micropython_version_text\": \"3.4.0; MicroPython v1.23.0 on 2024-06-02\"\n",
    "})\n",
    "mcu.power.dut = True # TODO: This line should not be required\n",
    "mcu.dut.mp_remote_close() # TODO: This line should not be required\n",
    "mcu.flash_dut(udev_poller=ctx.udev_poller,firmware_spec=firmware_spec)"
   ]
  },
  {
   "cell_type": "code",
   "execution_count": null,
   "id": "079af055",
   "metadata": {},
   "outputs": [],
   "source": [
    "# DUT pyboard/pico: Start MCU\n",
    "mcu.dut.mp_remote_close() # TODO: This line should not be required\n",
    "mcu.power.dut = True # TODO: This line should not be required\n",
    "mcu.dut_boot_and_init_mp_remote(udev=ctx.udev_poller)"
   ]
  },
  {
   "cell_type": "code",
   "execution_count": null,
   "id": "7c4f40bd",
   "metadata": {},
   "outputs": [],
   "source": [
    "# DUT pyboard/pico: close and return serial port. Allow to use Thonny\n",
    "mcu.dut.mp_remote_close()"
   ]
  },
  {
   "cell_type": "code",
   "execution_count": null,
   "id": "b066e7cb",
   "metadata": {},
   "outputs": [],
   "source": [
    "# DUT pyboard: Run micropython code - blink red led\n",
    "mcu.dut.mp_remote.exec_raw(\"\"\"\n",
    "from pyb import Timer\n",
    "\n",
    "tim = Timer(1, freq=1000)\n",
    "tim.freq(2.0)\n",
    "tim.callback(lambda t: pyb.LED(1).toggle())\n",
    "\"\"\")\n"
   ]
  }
 ],
 "metadata": {
  "kernelspec": {
   "display_name": "venv_octoprobe",
   "language": "python",
   "name": "python3"
  },
  "language_info": {
   "codemirror_mode": {
    "name": "ipython",
    "version": 3
   },
   "file_extension": ".py",
   "mimetype": "text/x-python",
   "name": "python",
   "nbconvert_exporter": "python",
   "pygments_lexer": "ipython3",
   "version": "3.13.0"
  }
 },
 "nbformat": 4,
 "nbformat_minor": 5
}
